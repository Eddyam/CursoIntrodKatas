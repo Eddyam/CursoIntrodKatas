{
 "cells": [
  {
   "cell_type": "markdown",
   "metadata": {},
   "source": [
    "### Traceback"
   ]
  },
  {
   "cell_type": "code",
   "execution_count": 2,
   "metadata": {},
   "outputs": [
    {
     "ename": "FileNotFoundError",
     "evalue": "[Errno 2] No such file or directory: '/path/to/mars.jpg'",
     "output_type": "error",
     "traceback": [
      "\u001b[1;31m---------------------------------------------------------------------------\u001b[0m",
      "\u001b[1;31mFileNotFoundError\u001b[0m                         Traceback (most recent call last)",
      "\u001b[1;32mc:\\Users\\Edder\\Documents\\CursoIntrodKatas\\Moludo10ManejoErrores.ipynb Cell 2'\u001b[0m in \u001b[0;36m<module>\u001b[1;34m\u001b[0m\n\u001b[1;32m----> <a href='vscode-notebook-cell:/c%3A/Users/Edder/Documents/CursoIntrodKatas/Moludo10ManejoErrores.ipynb#ch0000000?line=0'>1</a>\u001b[0m \u001b[39mopen\u001b[39;49m(\u001b[39m\"\u001b[39;49m\u001b[39m/path/to/mars.jpg\u001b[39;49m\u001b[39m\"\u001b[39;49m)\n",
      "\u001b[1;31mFileNotFoundError\u001b[0m: [Errno 2] No such file or directory: '/path/to/mars.jpg'"
     ]
    }
   ],
   "source": [
    "open(\"/path/to/mars.jpg\")"
   ]
  },
  {
   "cell_type": "markdown",
   "metadata": {},
   "source": [
    "### Manejar las excepciones FileNotFoundError y Permission Error"
   ]
  },
  {
   "cell_type": "code",
   "execution_count": 3,
   "metadata": {},
   "outputs": [
    {
     "name": "stdout",
     "output_type": "stream",
     "text": [
      "No se pudo encontrar el archivo config.txt\n"
     ]
    }
   ],
   "source": [
    "try:\n",
    "    configuration = open('config.txt')\n",
    "except FileNotFoundError:\n",
    "    print(\"No se pudo encontrar el archivo config.txt\")\n",
    "except IsADirectoryError:\n",
    "    print(\"Se encontro config.txt pero es un directorio, no se puede leer.\")\n",
    "except PermissionError:\n",
    "    print(\"El archivo tiene errores de permiso.\")"
   ]
  },
  {
   "cell_type": "markdown",
   "metadata": {},
   "source": [
    "### Agrupar excepciones del mismo tipo"
   ]
  },
  {
   "cell_type": "code",
   "execution_count": 4,
   "metadata": {},
   "outputs": [
    {
     "name": "stdout",
     "output_type": "stream",
     "text": [
      "No se pudo encontrar el archivo config.txt\n"
     ]
    }
   ],
   "source": [
    "try:\n",
    "    configuration = open('configt.txt')\n",
    "except FileNotFoundError:\n",
    "    print(\"No se pudo encontrar el archivo config.txt\")\n",
    "except IsADirectoryError:\n",
    "    print(\"Se encontro config.txt pero es un directorio, no se puede leer...\")\n",
    "except (BlockingIOError, TimeoutError):\n",
    "    print(\"Sistema de archivos con mucha carga, no se puede completar la lectura del archivo de configuración\")"
   ]
  },
  {
   "cell_type": "markdown",
   "metadata": {},
   "source": [
    "### Acceder al error asociado a la excepcion"
   ]
  },
  {
   "cell_type": "code",
   "execution_count": 5,
   "metadata": {},
   "outputs": [
    {
     "name": "stdout",
     "output_type": "stream",
     "text": [
      "Hay un problema intentando leer el archivo [Errno 2] No such file or directory: 'mars.jpg'\n"
     ]
    }
   ],
   "source": [
    "try:\n",
    "    open(\"mars.jpg\")\n",
    "except FileNotFoundError as err:\n",
    "    print(\"Hay un problema intentando leer el archivo\", err)"
   ]
  },
  {
   "cell_type": "markdown",
   "metadata": {},
   "source": [
    "### Acceder directamente a los atributos de error"
   ]
  },
  {
   "cell_type": "code",
   "execution_count": 6,
   "metadata": {},
   "outputs": [
    {
     "name": "stdout",
     "output_type": "stream",
     "text": [
      "No se puedo encontrar el archivo mars.jpg\n"
     ]
    }
   ],
   "source": [
    "try:\n",
    "    open(\"mars.jpg\")\n",
    "except OSError as err:\n",
    "    if err.errno == 2:\n",
    "        print(\"No se puedo encontrar el archivo mars.jpg\")\n",
    "    elif err.errno == 13:\n",
    "        print(\"Se encontro config.txt pero no se puede leer.\")"
   ]
  },
  {
   "cell_type": "markdown",
   "metadata": {},
   "source": [
    "### Generacion de excepciones"
   ]
  },
  {
   "cell_type": "code",
   "execution_count": 7,
   "metadata": {},
   "outputs": [
    {
     "ename": "TypeError",
     "evalue": "All arguments must be of type int, but received: '5'",
     "output_type": "error",
     "traceback": [
      "\u001b[1;31m---------------------------------------------------------------------------\u001b[0m",
      "\u001b[1;31mTypeError\u001b[0m                                 Traceback (most recent call last)",
      "\u001b[1;32mc:\\Users\\Edder\\Documents\\CursoIntrodKatas\\Moludo10ManejoErrores.ipynb Cell 12'\u001b[0m in \u001b[0;36mwater_left\u001b[1;34m(astronauts, water_left, days_left)\u001b[0m\n\u001b[0;32m      <a href='vscode-notebook-cell:/c%3A/Users/Edder/Documents/CursoIntrodKatas/Moludo10ManejoErrores.ipynb#ch0000011?line=3'>4</a>\u001b[0m \u001b[39mtry\u001b[39;00m:\n\u001b[1;32m----> <a href='vscode-notebook-cell:/c%3A/Users/Edder/Documents/CursoIntrodKatas/Moludo10ManejoErrores.ipynb#ch0000011?line=4'>5</a>\u001b[0m     argument \u001b[39m/\u001b[39;49m \u001b[39m10\u001b[39;49m\n\u001b[0;32m      <a href='vscode-notebook-cell:/c%3A/Users/Edder/Documents/CursoIntrodKatas/Moludo10ManejoErrores.ipynb#ch0000011?line=5'>6</a>\u001b[0m \u001b[39mexcept\u001b[39;00m \u001b[39mTypeError\u001b[39;00m:\n",
      "\u001b[1;31mTypeError\u001b[0m: unsupported operand type(s) for /: 'str' and 'int'",
      "\nDuring handling of the above exception, another exception occurred:\n",
      "\u001b[1;31mTypeError\u001b[0m                                 Traceback (most recent call last)",
      "\u001b[1;32mc:\\Users\\Edder\\Documents\\CursoIntrodKatas\\Moludo10ManejoErrores.ipynb Cell 12'\u001b[0m in \u001b[0;36m<module>\u001b[1;34m\u001b[0m\n\u001b[0;32m     <a href='vscode-notebook-cell:/c%3A/Users/Edder/Documents/CursoIntrodKatas/Moludo10ManejoErrores.ipynb#ch0000011?line=14'>15</a>\u001b[0m         \u001b[39mraise\u001b[39;00m \u001b[39mRuntimeError\u001b[39;00m(\u001b[39mf\u001b[39m\u001b[39m\"\u001b[39m\u001b[39mThere is not enough water for \u001b[39m\u001b[39m{\u001b[39;00mastronauts\u001b[39m}\u001b[39;00m\u001b[39m astronauts after \u001b[39m\u001b[39m{\u001b[39;00mdays_left\u001b[39m}\u001b[39;00m\u001b[39m days!\u001b[39m\u001b[39m\"\u001b[39m)\n\u001b[0;32m     <a href='vscode-notebook-cell:/c%3A/Users/Edder/Documents/CursoIntrodKatas/Moludo10ManejoErrores.ipynb#ch0000011?line=16'>17</a>\u001b[0m     \u001b[39mreturn\u001b[39;00m \u001b[39mf\u001b[39m\u001b[39m\"\u001b[39m\u001b[39mTotal water left after \u001b[39m\u001b[39m{\u001b[39;00mdays_left\u001b[39m}\u001b[39;00m\u001b[39m days is: \u001b[39m\u001b[39m{\u001b[39;00mtotal_water_left\u001b[39m}\u001b[39;00m\u001b[39m liters.\u001b[39m\u001b[39m\"\u001b[39m\n\u001b[1;32m---> <a href='vscode-notebook-cell:/c%3A/Users/Edder/Documents/CursoIntrodKatas/Moludo10ManejoErrores.ipynb#ch0000011?line=19'>20</a>\u001b[0m \u001b[39mprint\u001b[39m(water_left(\u001b[39m\"\u001b[39;49m\u001b[39m5\u001b[39;49m\u001b[39m\"\u001b[39;49m,\u001b[39m100\u001b[39;49m,\u001b[39m2\u001b[39;49m))\n",
      "\u001b[1;32mc:\\Users\\Edder\\Documents\\CursoIntrodKatas\\Moludo10ManejoErrores.ipynb Cell 12'\u001b[0m in \u001b[0;36mwater_left\u001b[1;34m(astronauts, water_left, days_left)\u001b[0m\n\u001b[0;32m      <a href='vscode-notebook-cell:/c%3A/Users/Edder/Documents/CursoIntrodKatas/Moludo10ManejoErrores.ipynb#ch0000011?line=4'>5</a>\u001b[0m         argument \u001b[39m/\u001b[39m \u001b[39m10\u001b[39m\n\u001b[0;32m      <a href='vscode-notebook-cell:/c%3A/Users/Edder/Documents/CursoIntrodKatas/Moludo10ManejoErrores.ipynb#ch0000011?line=5'>6</a>\u001b[0m     \u001b[39mexcept\u001b[39;00m \u001b[39mTypeError\u001b[39;00m:\n\u001b[1;32m----> <a href='vscode-notebook-cell:/c%3A/Users/Edder/Documents/CursoIntrodKatas/Moludo10ManejoErrores.ipynb#ch0000011?line=6'>7</a>\u001b[0m         \u001b[39mraise\u001b[39;00m \u001b[39mTypeError\u001b[39;00m(\u001b[39mf\u001b[39m\u001b[39m\"\u001b[39m\u001b[39mAll arguments must be of type int, but received: \u001b[39m\u001b[39m'\u001b[39m\u001b[39m{\u001b[39;00margument\u001b[39m}\u001b[39;00m\u001b[39m'\u001b[39m\u001b[39m\"\u001b[39m)\n\u001b[0;32m      <a href='vscode-notebook-cell:/c%3A/Users/Edder/Documents/CursoIntrodKatas/Moludo10ManejoErrores.ipynb#ch0000011?line=8'>9</a>\u001b[0m daily_usage \u001b[39m=\u001b[39m astronauts \u001b[39m*\u001b[39m \u001b[39m11\u001b[39m\n\u001b[0;32m     <a href='vscode-notebook-cell:/c%3A/Users/Edder/Documents/CursoIntrodKatas/Moludo10ManejoErrores.ipynb#ch0000011?line=9'>10</a>\u001b[0m total_usage \u001b[39m=\u001b[39m daily_usage \u001b[39m*\u001b[39m days_left\n",
      "\u001b[1;31mTypeError\u001b[0m: All arguments must be of type int, but received: '5'"
     ]
    }
   ],
   "source": [
    "def water_left(astronauts, water_left, days_left):\n",
    "    #Excepcion de tipo de dato no admitidos con TypeError\n",
    "    for argument in [astronauts, water_left, days_left]:\n",
    "        try:\n",
    "            argument / 10\n",
    "        except TypeError:\n",
    "            raise TypeError(f\"All arguments must be of type int, but received: '{argument}'\")\n",
    "\n",
    "    daily_usage = astronauts * 11\n",
    "    total_usage = daily_usage * days_left\n",
    "    total_water_left = water_left - total_usage\n",
    "    \n",
    "    # Verifica falta de agua \n",
    "    if total_water_left < 0:\n",
    "        raise RuntimeError(f\"There is not enough water for {astronauts} astronauts after {days_left} days!\")\n",
    "\n",
    "    return f\"Total water left after {days_left} days is: {total_water_left} liters.\"\n",
    "\n",
    "\n",
    "print(water_left(\"5\",100,2))"
   ]
  }
 ],
 "metadata": {
  "interpreter": {
   "hash": "1cd569de708ba27e8316ec5cda19c777812360cfb1ce8848c93a0e60939ff500"
  },
  "kernelspec": {
   "display_name": "Python 3.9.6 ('env': venv)",
   "language": "python",
   "name": "python3"
  },
  "language_info": {
   "codemirror_mode": {
    "name": "ipython",
    "version": 3
   },
   "file_extension": ".py",
   "mimetype": "text/x-python",
   "name": "python",
   "nbconvert_exporter": "python",
   "pygments_lexer": "ipython3",
   "version": "3.9.6"
  },
  "orig_nbformat": 4
 },
 "nbformat": 4,
 "nbformat_minor": 2
}
