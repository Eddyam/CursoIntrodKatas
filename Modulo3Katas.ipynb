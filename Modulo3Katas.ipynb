{
 "cells": [
  {
   "cell_type": "markdown",
   "metadata": {},
   "source": [
    "# Ejercicio - Escribir declaraciones if, else y elif"
   ]
  },
  {
   "cell_type": "markdown",
   "metadata": {},
   "source": [
    "## Ejercicio 1"
   ]
  },
  {
   "cell_type": "code",
   "execution_count": 1,
   "metadata": {},
   "outputs": [
    {
     "name": "stdout",
     "output_type": "stream",
     "text": [
      "Alerta! Un asteroide se acerca a la tierra demasiado rapido.\n"
     ]
    }
   ],
   "source": [
    "velocidad_asteroide = 49\n",
    "\n",
    "if velocidad_asteroide > 25:\n",
    "    print(\"Alerta! Un asteroide se acerca a la tierra demasiado rapido.\")\n",
    "else: \n",
    "    print(\"Todo bien, tranquilo!\")"
   ]
  },
  {
   "cell_type": "markdown",
   "metadata": {},
   "source": [
    "## Ejercicio 2"
   ]
  },
  {
   "cell_type": "code",
   "execution_count": 4,
   "metadata": {},
   "outputs": [
    {
     "name": "stdout",
     "output_type": "stream",
     "text": [
      "No hay novedad :)\n"
     ]
    }
   ],
   "source": [
    "velocidad_asteroide = 19\n",
    "\n",
    "if velocidad_asteroide > 20:\n",
    "    print(\"Atencion! Se puede vizualizar un rayo de luz en el cielo.\")\n",
    "elif velocidad_asteroide == 20:\n",
    "    print(\"Atencion! Se puede vizualizar un rayo de luz en el cielo.\")\n",
    "else:\n",
    "    print(\"No hay novedad :)\")\n"
   ]
  },
  {
   "cell_type": "markdown",
   "metadata": {},
   "source": [
    "# Ejercicio: Uso de operadores and y or"
   ]
  },
  {
   "cell_type": "code",
   "execution_count": 20,
   "metadata": {},
   "outputs": [
    {
     "name": "stdout",
     "output_type": "stream",
     "text": [
      "Todo tranquilo!\n"
     ]
    }
   ],
   "source": [
    "dimension_asteroide = 100\n",
    "velocidad_asteroide = 2\n",
    "\n",
    "if dimension_asteroide > 25 and velocidad_asteroide > 25:\n",
    "    print(\"Peligro! Un asteroide de grandes dimension se acerca a la tierra.\")\n",
    "elif velocidad_asteroide >= 20:\n",
    "    print(\"Atencion! Se puede vizualizar un rayo de luz en el cielo.\")\n",
    "else: \n",
    "    print(\"Todo tranquilo!\")\n",
    "\n",
    "    \n",
    "\n",
    "\n"
   ]
  }
 ],
 "metadata": {
  "interpreter": {
   "hash": "91b3138e92f84dfa27d308827335bc76af3fb5548593e1ce02532dd543cdfcb7"
  },
  "kernelspec": {
   "display_name": "Python 3.9.6 64-bit",
   "language": "python",
   "name": "python3"
  },
  "language_info": {
   "codemirror_mode": {
    "name": "ipython",
    "version": 3
   },
   "file_extension": ".py",
   "mimetype": "text/x-python",
   "name": "python",
   "nbconvert_exporter": "python",
   "pygments_lexer": "ipython3",
   "version": "3.9.6"
  },
  "orig_nbformat": 4
 },
 "nbformat": 4,
 "nbformat_minor": 2
}
