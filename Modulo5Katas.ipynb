{
 "cells": [
  {
   "cell_type": "markdown",
   "metadata": {},
   "source": [
    "# Ejercicio 1 - Utilizar operadores aritmeticos"
   ]
  },
  {
   "cell_type": "code",
   "execution_count": 2,
   "metadata": {},
   "outputs": [
    {
     "name": "stdout",
     "output_type": "stream",
     "text": [
      "Distancia entre planetas: 628949330\n",
      "Distancia en millas: 390577533.93\n"
     ]
    }
   ],
   "source": [
    "# Crear variables\n",
    "dis_tierra = 149597870\n",
    "dis_jupiter = 778547200\n",
    "\n",
    "dis_entre_planetas = dis_jupiter - dis_tierra\n",
    "dis_en_millas = dis_entre_planetas * 0.621\n",
    "\n",
    "print(\"Distancia entre planetas: \" + str(dis_entre_planetas))\n",
    "print(\"Distancia en millas: \" + str(dis_en_millas))"
   ]
  },
  {
   "cell_type": "markdown",
   "metadata": {},
   "source": [
    "# Ejercicio 2: convierte cadenas en numeros y usa valores absolutos."
   ]
  },
  {
   "cell_type": "code",
   "execution_count": 4,
   "metadata": {},
   "outputs": [],
   "source": [
    "# Leer valores\n",
    "dis_planeta1 = int(input(\"Introduce la distancia de el planeta 1 hacia el sol: \"))\n",
    "dis_planeta2 = int(input(\"Introduce la distancia de el planeta 2 hacia el sol: \"))"
   ]
  },
  {
   "cell_type": "code",
   "execution_count": 5,
   "metadata": {},
   "outputs": [
    {
     "name": "stdout",
     "output_type": "stream",
     "text": [
      "La distancia entre planetas es: 1000\n",
      "La distancia en millas es: 621.0\n"
     ]
    }
   ],
   "source": [
    "# Realizar calculo \n",
    "res = abs(dis_planeta1 - dis_planeta2)\n",
    "res_millas = res * 0.621\n",
    "\n",
    "print(\"La distancia entre planetas es: \" + str(res))\n",
    "print(\"La distancia en millas es: \" + str(res_millas))"
   ]
  }
 ],
 "metadata": {
  "interpreter": {
   "hash": "1cd569de708ba27e8316ec5cda19c777812360cfb1ce8848c93a0e60939ff500"
  },
  "kernelspec": {
   "display_name": "Python 3.9.6 ('env': venv)",
   "language": "python",
   "name": "python3"
  },
  "language_info": {
   "codemirror_mode": {
    "name": "ipython",
    "version": 3
   },
   "file_extension": ".py",
   "mimetype": "text/x-python",
   "name": "python",
   "nbconvert_exporter": "python",
   "pygments_lexer": "ipython3",
   "version": "3.9.6"
  },
  "orig_nbformat": 4
 },
 "nbformat": 4,
 "nbformat_minor": 2
}
